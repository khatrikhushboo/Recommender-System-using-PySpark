{
 "cells": [
  {
   "cell_type": "code",
   "execution_count": 1,
   "metadata": {
    "collapsed": true
   },
   "outputs": [],
   "source": [
    "#Making necesarry imports\n",
    "import pandas as pd\n",
    "import matplotlib.pyplot as plt\n",
    "import sklearn.metrics as metrics\n",
    "import numpy as np\n",
    "from sklearn.neighbors import NearestNeighbors\n",
    "from scipy.spatial.distance import correlation\n",
    "from sklearn.metrics.pairwise import pairwise_distances\n",
    "import ipywidgets as widgets\n",
    "from IPython.display import display, clear_output\n",
    "from contextlib import contextmanager\n",
    "import warnings\n",
    "warnings.filterwarnings('ignore')\n",
    "import os, sys\n",
    "import re\n",
    "import seaborn as sns\n",
    "from pyspark.ml.evaluation import RegressionEvaluator\n",
    "from pyspark.ml.recommendation import ALS\n",
    "from pyspark.sql import Row"
   ]
  },
  {
   "cell_type": "code",
   "execution_count": 2,
   "metadata": {},
   "outputs": [
    {
     "data": {
      "text/plain": [
       "'C:\\\\Users\\\\cliff\\\\Desktop\\\\PyShark project'"
      ]
     },
     "execution_count": 2,
     "metadata": {},
     "output_type": "execute_result"
    }
   ],
   "source": [
    "#Setting the current working directory\n",
    "os.chdir('C:\\\\Users\\\\cliff\\\\Desktop\\\\PyShark project')\n",
    "os.getcwd()"
   ]
  },
  {
   "cell_type": "code",
   "execution_count": 3,
   "metadata": {},
   "outputs": [
    {
     "data": {
      "text/html": [
       "<script>\n",
       "code_show_err=false; \n",
       "function code_toggle_err() {\n",
       " if (code_show_err){\n",
       " $('div.output_stderr').hide();\n",
       " } else {\n",
       " $('div.output_stderr').show();\n",
       " }\n",
       " code_show_err = !code_show_err\n",
       "} \n",
       "$( document ).ready(code_toggle_err);\n",
       "</script>\n",
       "To toggle on/off output_stderr, click <a href=\"javascript:code_toggle_err()\">here</a>."
      ],
      "text/plain": [
       "<IPython.core.display.HTML object>"
      ]
     },
     "execution_count": 3,
     "metadata": {},
     "output_type": "execute_result"
    }
   ],
   "source": [
    "from IPython.display import HTML\n",
    "HTML('''<script>\n",
    "code_show_err=false; \n",
    "function code_toggle_err() {\n",
    " if (code_show_err){\n",
    " $('div.output_stderr').hide();\n",
    " } else {\n",
    " $('div.output_stderr').show();\n",
    " }\n",
    " code_show_err = !code_show_err\n",
    "} \n",
    "$( document ).ready(code_toggle_err);\n",
    "</script>\n",
    "To toggle on/off output_stderr, click <a href=\"javascript:code_toggle_err()\">here</a>.''')"
   ]
  },
  {
   "cell_type": "code",
   "execution_count": 4,
   "metadata": {},
   "outputs": [
    {
     "data": {
      "text/html": [
       "<div>\n",
       "<style>\n",
       "    .dataframe thead tr:only-child th {\n",
       "        text-align: right;\n",
       "    }\n",
       "\n",
       "    .dataframe thead th {\n",
       "        text-align: left;\n",
       "    }\n",
       "\n",
       "    .dataframe tbody tr th {\n",
       "        vertical-align: top;\n",
       "    }\n",
       "</style>\n",
       "<table border=\"1\" class=\"dataframe\">\n",
       "  <thead>\n",
       "    <tr style=\"text-align: right;\">\n",
       "      <th></th>\n",
       "      <th>user_id</th>\n",
       "      <th>business_id</th>\n",
       "      <th>stars</th>\n",
       "    </tr>\n",
       "  </thead>\n",
       "  <tbody>\n",
       "    <tr>\n",
       "      <th>0</th>\n",
       "      <td>YHWsLBS8jzZiPjKHMFOaAA</td>\n",
       "      <td>gl1zQmiA8MUHmLL2wsCdVA</td>\n",
       "      <td>3</td>\n",
       "    </tr>\n",
       "    <tr>\n",
       "      <th>1</th>\n",
       "      <td>YHWsLBS8jzZiPjKHMFOaAA</td>\n",
       "      <td>OR6iRk0vrMzE-1gLg-WYrw</td>\n",
       "      <td>2</td>\n",
       "    </tr>\n",
       "    <tr>\n",
       "      <th>2</th>\n",
       "      <td>YHWsLBS8jzZiPjKHMFOaAA</td>\n",
       "      <td>qAg8GkN9rforFWmGxBqVqA</td>\n",
       "      <td>3</td>\n",
       "    </tr>\n",
       "    <tr>\n",
       "      <th>3</th>\n",
       "      <td>YHWsLBS8jzZiPjKHMFOaAA</td>\n",
       "      <td>VhQXJteVrG3L-wq8HlYFqw</td>\n",
       "      <td>4</td>\n",
       "    </tr>\n",
       "    <tr>\n",
       "      <th>4</th>\n",
       "      <td>YHWsLBS8jzZiPjKHMFOaAA</td>\n",
       "      <td>CN5nuUQod0f8g3oh99qq0w</td>\n",
       "      <td>4</td>\n",
       "    </tr>\n",
       "  </tbody>\n",
       "</table>\n",
       "</div>"
      ],
      "text/plain": [
       "                  user_id             business_id  stars\n",
       "0  YHWsLBS8jzZiPjKHMFOaAA  gl1zQmiA8MUHmLL2wsCdVA      3\n",
       "1  YHWsLBS8jzZiPjKHMFOaAA  OR6iRk0vrMzE-1gLg-WYrw      2\n",
       "2  YHWsLBS8jzZiPjKHMFOaAA  qAg8GkN9rforFWmGxBqVqA      3\n",
       "3  YHWsLBS8jzZiPjKHMFOaAA  VhQXJteVrG3L-wq8HlYFqw      4\n",
       "4  YHWsLBS8jzZiPjKHMFOaAA  CN5nuUQod0f8g3oh99qq0w      4"
      ]
     },
     "execution_count": 4,
     "metadata": {},
     "output_type": "execute_result"
    }
   ],
   "source": [
    "train = pd.read_csv('train_review.csv')\n",
    "train.head()"
   ]
  },
  {
   "cell_type": "code",
   "execution_count": 5,
   "metadata": {},
   "outputs": [
    {
     "data": {
      "text/plain": [
       "user_id        object\n",
       "business_id    object\n",
       "stars           int64\n",
       "dtype: object"
      ]
     },
     "execution_count": 5,
     "metadata": {},
     "output_type": "execute_result"
    }
   ],
   "source": [
    "train.dtypes\n"
   ]
  },
  {
   "cell_type": "code",
   "execution_count": 6,
   "metadata": {},
   "outputs": [
    {
     "data": {
      "text/html": [
       "<div>\n",
       "<style>\n",
       "    .dataframe thead tr:only-child th {\n",
       "        text-align: right;\n",
       "    }\n",
       "\n",
       "    .dataframe thead th {\n",
       "        text-align: left;\n",
       "    }\n",
       "\n",
       "    .dataframe tbody tr th {\n",
       "        vertical-align: top;\n",
       "    }\n",
       "</style>\n",
       "<table border=\"1\" class=\"dataframe\">\n",
       "  <thead>\n",
       "    <tr style=\"text-align: right;\">\n",
       "      <th></th>\n",
       "      <th>user_id</th>\n",
       "      <th>business_id</th>\n",
       "      <th>stars</th>\n",
       "    </tr>\n",
       "  </thead>\n",
       "  <tbody>\n",
       "    <tr>\n",
       "      <th>0</th>\n",
       "      <td>YHWsLBS8jzZiPjKHMFOaAA</td>\n",
       "      <td>iKMLsX1Je7P3wAOEc9scDg</td>\n",
       "      <td>4</td>\n",
       "    </tr>\n",
       "    <tr>\n",
       "      <th>1</th>\n",
       "      <td>YHWsLBS8jzZiPjKHMFOaAA</td>\n",
       "      <td>amsvLzfEvCzLwP0MnXAJ1w</td>\n",
       "      <td>4</td>\n",
       "    </tr>\n",
       "    <tr>\n",
       "      <th>2</th>\n",
       "      <td>YHWsLBS8jzZiPjKHMFOaAA</td>\n",
       "      <td>43PeF0ERpSIiEbXM6f9N2g</td>\n",
       "      <td>3</td>\n",
       "    </tr>\n",
       "    <tr>\n",
       "      <th>3</th>\n",
       "      <td>YHWsLBS8jzZiPjKHMFOaAA</td>\n",
       "      <td>y-sRypoTK2L6EuozhEMQzA</td>\n",
       "      <td>2</td>\n",
       "    </tr>\n",
       "    <tr>\n",
       "      <th>4</th>\n",
       "      <td>YHWsLBS8jzZiPjKHMFOaAA</td>\n",
       "      <td>VeVjZ8aR_zFEM9jKJuvraw</td>\n",
       "      <td>4</td>\n",
       "    </tr>\n",
       "    <tr>\n",
       "      <th>5</th>\n",
       "      <td>YgavGxfAdjhkkbwlAY_9ZQ</td>\n",
       "      <td>dgpPVSFL84ONx477Lln2sw</td>\n",
       "      <td>4</td>\n",
       "    </tr>\n",
       "    <tr>\n",
       "      <th>6</th>\n",
       "      <td>YgavGxfAdjhkkbwlAY_9ZQ</td>\n",
       "      <td>edf1UxWW9-7u_f35kbvEwQ</td>\n",
       "      <td>3</td>\n",
       "    </tr>\n",
       "    <tr>\n",
       "      <th>7</th>\n",
       "      <td>q3AiAe-AcpDrNsdZf8nCvQ</td>\n",
       "      <td>YmFkrylzWy4vmNFkWk-I0g</td>\n",
       "      <td>5</td>\n",
       "    </tr>\n",
       "    <tr>\n",
       "      <th>8</th>\n",
       "      <td>q3AiAe-AcpDrNsdZf8nCvQ</td>\n",
       "      <td>whAwdYVty-jSNRhrYT2zHA</td>\n",
       "      <td>5</td>\n",
       "    </tr>\n",
       "    <tr>\n",
       "      <th>9</th>\n",
       "      <td>q3AiAe-AcpDrNsdZf8nCvQ</td>\n",
       "      <td>7XTGtaKjANmZqp2QtN_iPA</td>\n",
       "      <td>4</td>\n",
       "    </tr>\n",
       "  </tbody>\n",
       "</table>\n",
       "</div>"
      ],
      "text/plain": [
       "                  user_id             business_id  stars\n",
       "0  YHWsLBS8jzZiPjKHMFOaAA  iKMLsX1Je7P3wAOEc9scDg      4\n",
       "1  YHWsLBS8jzZiPjKHMFOaAA  amsvLzfEvCzLwP0MnXAJ1w      4\n",
       "2  YHWsLBS8jzZiPjKHMFOaAA  43PeF0ERpSIiEbXM6f9N2g      3\n",
       "3  YHWsLBS8jzZiPjKHMFOaAA  y-sRypoTK2L6EuozhEMQzA      2\n",
       "4  YHWsLBS8jzZiPjKHMFOaAA  VeVjZ8aR_zFEM9jKJuvraw      4\n",
       "5  YgavGxfAdjhkkbwlAY_9ZQ  dgpPVSFL84ONx477Lln2sw      4\n",
       "6  YgavGxfAdjhkkbwlAY_9ZQ  edf1UxWW9-7u_f35kbvEwQ      3\n",
       "7  q3AiAe-AcpDrNsdZf8nCvQ  YmFkrylzWy4vmNFkWk-I0g      5\n",
       "8  q3AiAe-AcpDrNsdZf8nCvQ  whAwdYVty-jSNRhrYT2zHA      5\n",
       "9  q3AiAe-AcpDrNsdZf8nCvQ  7XTGtaKjANmZqp2QtN_iPA      4"
      ]
     },
     "execution_count": 6,
     "metadata": {},
     "output_type": "execute_result"
    }
   ],
   "source": [
    "test = pd.read_csv('test_review.csv')\n",
    "test.head(10)"
   ]
  },
  {
   "cell_type": "code",
   "execution_count": 8,
   "metadata": {},
   "outputs": [
    {
     "data": {
      "text/html": [
       "<div>\n",
       "<style>\n",
       "    .dataframe thead tr:only-child th {\n",
       "        text-align: right;\n",
       "    }\n",
       "\n",
       "    .dataframe thead th {\n",
       "        text-align: left;\n",
       "    }\n",
       "\n",
       "    .dataframe tbody tr th {\n",
       "        vertical-align: top;\n",
       "    }\n",
       "</style>\n",
       "<table border=\"1\" class=\"dataframe\">\n",
       "  <thead>\n",
       "    <tr style=\"text-align: right;\">\n",
       "      <th></th>\n",
       "      <th>user_id</th>\n",
       "      <th>business_id</th>\n",
       "    </tr>\n",
       "  </thead>\n",
       "  <tbody>\n",
       "    <tr>\n",
       "      <th>0</th>\n",
       "      <td>YHWsLBS8jzZiPjKHMFOaAA</td>\n",
       "      <td>iKMLsX1Je7P3wAOEc9scDg</td>\n",
       "    </tr>\n",
       "    <tr>\n",
       "      <th>1</th>\n",
       "      <td>YHWsLBS8jzZiPjKHMFOaAA</td>\n",
       "      <td>amsvLzfEvCzLwP0MnXAJ1w</td>\n",
       "    </tr>\n",
       "    <tr>\n",
       "      <th>2</th>\n",
       "      <td>YHWsLBS8jzZiPjKHMFOaAA</td>\n",
       "      <td>43PeF0ERpSIiEbXM6f9N2g</td>\n",
       "    </tr>\n",
       "    <tr>\n",
       "      <th>3</th>\n",
       "      <td>YHWsLBS8jzZiPjKHMFOaAA</td>\n",
       "      <td>y-sRypoTK2L6EuozhEMQzA</td>\n",
       "    </tr>\n",
       "    <tr>\n",
       "      <th>4</th>\n",
       "      <td>YHWsLBS8jzZiPjKHMFOaAA</td>\n",
       "      <td>VeVjZ8aR_zFEM9jKJuvraw</td>\n",
       "    </tr>\n",
       "  </tbody>\n",
       "</table>\n",
       "</div>"
      ],
      "text/plain": [
       "                  user_id             business_id\n",
       "0  YHWsLBS8jzZiPjKHMFOaAA  iKMLsX1Je7P3wAOEc9scDg\n",
       "1  YHWsLBS8jzZiPjKHMFOaAA  amsvLzfEvCzLwP0MnXAJ1w\n",
       "2  YHWsLBS8jzZiPjKHMFOaAA  43PeF0ERpSIiEbXM6f9N2g\n",
       "3  YHWsLBS8jzZiPjKHMFOaAA  y-sRypoTK2L6EuozhEMQzA\n",
       "4  YHWsLBS8jzZiPjKHMFOaAA  VeVjZ8aR_zFEM9jKJuvraw"
      ]
     },
     "execution_count": 8,
     "metadata": {},
     "output_type": "execute_result"
    }
   ],
   "source": [
    "test_df = test[[\"user_id\",\"business_id\"]]\n",
    "test_df.head()"
   ]
  },
  {
   "cell_type": "code",
   "execution_count": 9,
   "metadata": {
    "collapsed": true
   },
   "outputs": [],
   "source": [
    "#making this setting to display full text in columns\n",
    "pd.set_option('display.max_colwidth', -1)"
   ]
  },
  {
   "cell_type": "code",
   "execution_count": 10,
   "metadata": {},
   "outputs": [
    {
     "name": "stdout",
     "output_type": "stream",
     "text": [
      "['YHWsLBS8jzZiPjKHMFOaAA' 'YgavGxfAdjhkkbwlAY_9ZQ'\n",
      " 'q3AiAe-AcpDrNsdZf8nCvQ' ... 'wskTNZjwiqMJOvM_-XAQZw'\n",
      " '2bkjcc1N8jneRsPs_dz0kw' 'Rdtp3Yam3moqnGIG3td3wA']\n"
     ]
    }
   ],
   "source": [
    "print(train['user_id'].unique())\n",
    "#Now it can be seen that yearOfPublication has all values as integers"
   ]
  },
  {
   "cell_type": "code",
   "execution_count": 11,
   "metadata": {},
   "outputs": [
    {
     "data": {
      "text/plain": [
       "count     407117\n",
       "unique    1     \n",
       "top       False \n",
       "freq      407117\n",
       "Name: business_id, dtype: object"
      ]
     },
     "execution_count": 11,
     "metadata": {},
     "output_type": "execute_result"
    }
   ],
   "source": [
    "#exploring for NA's\n",
    "na_s=train['user_id'].isnull()\n",
    "na_s.describe()\n",
    "na_s=train['stars'].isnull()\n",
    "na_s.describe()\n",
    "na_s=train['business_id'].isnull()\n",
    "na_s.describe()"
   ]
  },
  {
   "cell_type": "markdown",
   "metadata": {},
   "source": [
    "**Ratings Dataset**"
   ]
  },
  {
   "cell_type": "code",
   "execution_count": 12,
   "metadata": {},
   "outputs": [
    {
     "name": "stdout",
     "output_type": "stream",
     "text": [
      "801870504\n"
     ]
    }
   ],
   "source": [
    "#ratings dataset will have n_users*n_business entries if every user rated every item,\n",
    "#this shows that the dataset is very sparse\n",
    "n_users = train['user_id'].unique().shape[0]\n",
    "n_business= train['business_id'].unique().shape[0]\n",
    "print( n_users * n_business)"
   ]
  },
  {
   "cell_type": "code",
   "execution_count": 13,
   "metadata": {},
   "outputs": [
    {
     "data": {
      "text/plain": [
       "28216"
      ]
     },
     "execution_count": 13,
     "metadata": {},
     "output_type": "execute_result"
    }
   ],
   "source": [
    "train['user_id'].unique().shape[0]"
   ]
  },
  {
   "cell_type": "code",
   "execution_count": 14,
   "metadata": {
    "scrolled": true
   },
   "outputs": [
    {
     "data": {
      "text/html": [
       "<div>\n",
       "<style>\n",
       "    .dataframe thead tr:only-child th {\n",
       "        text-align: right;\n",
       "    }\n",
       "\n",
       "    .dataframe thead th {\n",
       "        text-align: left;\n",
       "    }\n",
       "\n",
       "    .dataframe tbody tr th {\n",
       "        vertical-align: top;\n",
       "    }\n",
       "</style>\n",
       "<table border=\"1\" class=\"dataframe\">\n",
       "  <thead>\n",
       "    <tr style=\"text-align: right;\">\n",
       "      <th></th>\n",
       "      <th>business_id</th>\n",
       "      <th>stars</th>\n",
       "    </tr>\n",
       "  </thead>\n",
       "  <tbody>\n",
       "    <tr>\n",
       "      <th>0</th>\n",
       "      <td>gl1zQmiA8MUHmLL2wsCdVA</td>\n",
       "      <td>3</td>\n",
       "    </tr>\n",
       "    <tr>\n",
       "      <th>1</th>\n",
       "      <td>OR6iRk0vrMzE-1gLg-WYrw</td>\n",
       "      <td>2</td>\n",
       "    </tr>\n",
       "    <tr>\n",
       "      <th>2</th>\n",
       "      <td>qAg8GkN9rforFWmGxBqVqA</td>\n",
       "      <td>3</td>\n",
       "    </tr>\n",
       "    <tr>\n",
       "      <th>3</th>\n",
       "      <td>VhQXJteVrG3L-wq8HlYFqw</td>\n",
       "      <td>4</td>\n",
       "    </tr>\n",
       "    <tr>\n",
       "      <th>4</th>\n",
       "      <td>CN5nuUQod0f8g3oh99qq0w</td>\n",
       "      <td>4</td>\n",
       "    </tr>\n",
       "  </tbody>\n",
       "</table>\n",
       "</div>"
      ],
      "text/plain": [
       "              business_id  stars\n",
       "0  gl1zQmiA8MUHmLL2wsCdVA  3    \n",
       "1  OR6iRk0vrMzE-1gLg-WYrw  2    \n",
       "2  qAg8GkN9rforFWmGxBqVqA  3    \n",
       "3  VhQXJteVrG3L-wq8HlYFqw  4    \n",
       "4  CN5nuUQod0f8g3oh99qq0w  4    "
      ]
     },
     "execution_count": 14,
     "metadata": {},
     "output_type": "execute_result"
    }
   ],
   "source": [
    "#checking first few rows...\n",
    "ratings=train[['business_id','stars']]\n",
    "ratings.head()"
   ]
  },
  {
   "cell_type": "code",
   "execution_count": 15,
   "metadata": {},
   "outputs": [
    {
     "data": {
      "text/plain": [
       "28419"
      ]
     },
     "execution_count": 15,
     "metadata": {},
     "output_type": "execute_result"
    }
   ],
   "source": [
    "ratings['business_id'].unique().shape[0]"
   ]
  },
  {
   "cell_type": "code",
   "execution_count": 16,
   "metadata": {},
   "outputs": [
    {
     "name": "stdout",
     "output_type": "stream",
     "text": [
      "number of users: 28216\n",
      "number of businesses: 28419\n"
     ]
    }
   ],
   "source": [
    "print( \"number of users: \" + str(n_users))\n",
    "print (\"number of businesses: \" + str(n_business))"
   ]
  },
  {
   "cell_type": "code",
   "execution_count": 17,
   "metadata": {
    "collapsed": true
   },
   "outputs": [],
   "source": [
    "ratings_new=train"
   ]
  },
  {
   "cell_type": "code",
   "execution_count": 18,
   "metadata": {},
   "outputs": [
    {
     "name": "stdout",
     "output_type": "stream",
     "text": [
      "The sparsity level of Book Crossing dataset is 99.94922908400183 %\n"
     ]
    }
   ],
   "source": [
    "#Sparsity of dataset in %\n",
    "sparsity=1.0-len(ratings_new['stars'])/float(n_users*n_business)\n",
    "print ('The sparsity level of Book Crossing dataset is ' +  str(sparsity*100) + ' %')"
   ]
  },
  {
   "cell_type": "code",
   "execution_count": 19,
   "metadata": {
    "collapsed": true
   },
   "outputs": [],
   "source": [
    "#Hence segragating implicit and explict ratings datasets\n",
    "ratings_explicit = ratings_new[ratings['stars'] != 0]\n",
    "ratings_implicit = ratings_new[ratings['stars'] == 0]"
   ]
  },
  {
   "cell_type": "code",
   "execution_count": 20,
   "metadata": {},
   "outputs": [
    {
     "name": "stdout",
     "output_type": "stream",
     "text": [
      "(407117, 2)\n",
      "(407117, 3)\n",
      "(0, 3)\n"
     ]
    }
   ],
   "source": [
    "#checking shapes\n",
    "print (ratings.shape)\n",
    "print (ratings_explicit.shape)\n",
    "print (ratings_implicit.shape)"
   ]
  },
  {
   "cell_type": "code",
   "execution_count": 21,
   "metadata": {
    "scrolled": true
   },
   "outputs": [
    {
     "data": {
      "image/png": "[encoded data removed]",
      "text/plain": [
       "<matplotlib.figure.Figure at 0x1f659350828>"
      ]
     },
     "metadata": {},
     "output_type": "display_data"
    }
   ],
   "source": [
    "#plotting count of stars\n",
    "sns.countplot(data=ratings_explicit , x='stars')\n",
    "plt.show()\n",
    "#It can be seen that higher ratings are more common amongst users and rating 8 has been rated highest number of times"
   ]
  },
  {
   "cell_type": "markdown",
   "metadata": {},
   "source": [
    "**Collaborative Filtering Based Recommendation Systems**"
   ]
  },
  {
   "cell_type": "code",
   "execution_count": 22,
   "metadata": {
    "collapsed": true
   },
   "outputs": [],
   "source": [
    "#To cope up with computing power I have and to reduce the dataset size, \n",
    "counts1 = ratings_explicit['user_id'].value_counts()\n",
    "ratings_explicit = ratings_explicit[ratings_explicit['user_id'].isin(counts1[counts1 >= 6].index)]\n",
    "counts = ratings_explicit['stars'].value_counts()"
   ]
  },
  {
   "cell_type": "code",
   "execution_count": 23,
   "metadata": {},
   "outputs": [
    {
     "name": "stdout",
     "output_type": "stream",
     "text": [
      "(11845, 28290)\n"
     ]
    },
    {
     "data": {
      "text/html": [
       "<div>\n",
       "<style>\n",
       "    .dataframe thead tr:only-child th {\n",
       "        text-align: right;\n",
       "    }\n",
       "\n",
       "    .dataframe thead th {\n",
       "        text-align: left;\n",
       "    }\n",
       "\n",
       "    .dataframe tbody tr th {\n",
       "        vertical-align: top;\n",
       "    }\n",
       "</style>\n",
       "<table border=\"1\" class=\"dataframe\">\n",
       "  <thead>\n",
       "    <tr style=\"text-align: right;\">\n",
       "      <th>business_id</th>\n",
       "      <th>--7zmmkVg-IMGaXbuVd0SQ</th>\n",
       "      <th>--9e1ONYQuAa-CB_Rrw7Tw</th>\n",
       "      <th>--DaPTJW3-tB1vP-PfdTEg</th>\n",
       "      <th>--FBCX-N37CMYDfs790Bnw</th>\n",
       "      <th>--I7YYLada0tSLkORTHb5Q</th>\n",
       "      <th>--SrzpvFLwP_YFwB_Cetow</th>\n",
       "      <th>--cZ6Hhc9F7VkKXxHMVZSQ</th>\n",
       "      <th>--cjBEbXMI2obtaRHNSFrA</th>\n",
       "      <th>--ujyvoQlwVoBgMYtADiLA</th>\n",
       "      <th>-01XupAWZEXbdNbxNg5mEg</th>\n",
       "      <th>...</th>\n",
       "      <th>zyw5DjrRks7a8OhmBsgCQQ</th>\n",
       "      <th>zz3CqZhNx2rQ_Yp6zHze-A</th>\n",
       "      <th>zzSYBWuv_fXGtSgsO-6_1g</th>\n",
       "      <th>zzUj3ej4vm_DtvRxNvWDEw</th>\n",
       "      <th>zzlZJVkEhOzR2tJOLHcF2A</th>\n",
       "      <th>zzmIMvqiBJ_-wVKg_OnGpw</th>\n",
       "      <th>zzsOLFhgUw8gnjLTVVItFA</th>\n",
       "      <th>zzwaS0xn1MVEPEf0hNLjew</th>\n",
       "      <th>zzwhN7x37nyjP0ZM8oiHmw</th>\n",
       "      <th>zzwicjPC9g246MK2M1ZFBA</th>\n",
       "    </tr>\n",
       "    <tr>\n",
       "      <th>user_id</th>\n",
       "      <th></th>\n",
       "      <th></th>\n",
       "      <th></th>\n",
       "      <th></th>\n",
       "      <th></th>\n",
       "      <th></th>\n",
       "      <th></th>\n",
       "      <th></th>\n",
       "      <th></th>\n",
       "      <th></th>\n",
       "      <th></th>\n",
       "      <th></th>\n",
       "      <th></th>\n",
       "      <th></th>\n",
       "      <th></th>\n",
       "      <th></th>\n",
       "      <th></th>\n",
       "      <th></th>\n",
       "      <th></th>\n",
       "      <th></th>\n",
       "      <th></th>\n",
       "    </tr>\n",
       "  </thead>\n",
       "  <tbody>\n",
       "    <tr>\n",
       "      <th>--CIuK7sUpaNzalLAlHJKA</th>\n",
       "      <td>NaN</td>\n",
       "      <td>NaN</td>\n",
       "      <td>NaN</td>\n",
       "      <td>NaN</td>\n",
       "      <td>NaN</td>\n",
       "      <td>NaN</td>\n",
       "      <td>NaN</td>\n",
       "      <td>NaN</td>\n",
       "      <td>NaN</td>\n",
       "      <td>NaN</td>\n",
       "      <td>...</td>\n",
       "      <td>NaN</td>\n",
       "      <td>NaN</td>\n",
       "      <td>NaN</td>\n",
       "      <td>NaN</td>\n",
       "      <td>NaN</td>\n",
       "      <td>NaN</td>\n",
       "      <td>NaN</td>\n",
       "      <td>NaN</td>\n",
       "      <td>NaN</td>\n",
       "      <td>NaN</td>\n",
       "    </tr>\n",
       "    <tr>\n",
       "      <th>--ZNfWKj1VyVElRx6-g1fg</th>\n",
       "      <td>NaN</td>\n",
       "      <td>NaN</td>\n",
       "      <td>NaN</td>\n",
       "      <td>NaN</td>\n",
       "      <td>NaN</td>\n",
       "      <td>NaN</td>\n",
       "      <td>NaN</td>\n",
       "      <td>NaN</td>\n",
       "      <td>NaN</td>\n",
       "      <td>NaN</td>\n",
       "      <td>...</td>\n",
       "      <td>NaN</td>\n",
       "      <td>NaN</td>\n",
       "      <td>NaN</td>\n",
       "      <td>NaN</td>\n",
       "      <td>NaN</td>\n",
       "      <td>NaN</td>\n",
       "      <td>NaN</td>\n",
       "      <td>NaN</td>\n",
       "      <td>NaN</td>\n",
       "      <td>NaN</td>\n",
       "    </tr>\n",
       "    <tr>\n",
       "      <th>--ty7Z9fEt08E3dS3_qoSA</th>\n",
       "      <td>NaN</td>\n",
       "      <td>NaN</td>\n",
       "      <td>NaN</td>\n",
       "      <td>NaN</td>\n",
       "      <td>NaN</td>\n",
       "      <td>NaN</td>\n",
       "      <td>NaN</td>\n",
       "      <td>NaN</td>\n",
       "      <td>NaN</td>\n",
       "      <td>NaN</td>\n",
       "      <td>...</td>\n",
       "      <td>NaN</td>\n",
       "      <td>NaN</td>\n",
       "      <td>NaN</td>\n",
       "      <td>NaN</td>\n",
       "      <td>NaN</td>\n",
       "      <td>NaN</td>\n",
       "      <td>NaN</td>\n",
       "      <td>NaN</td>\n",
       "      <td>NaN</td>\n",
       "      <td>NaN</td>\n",
       "    </tr>\n",
       "    <tr>\n",
       "      <th>-0AyZxS5C--WySnbW_Q8yQ</th>\n",
       "      <td>NaN</td>\n",
       "      <td>NaN</td>\n",
       "      <td>NaN</td>\n",
       "      <td>NaN</td>\n",
       "      <td>NaN</td>\n",
       "      <td>NaN</td>\n",
       "      <td>NaN</td>\n",
       "      <td>NaN</td>\n",
       "      <td>NaN</td>\n",
       "      <td>NaN</td>\n",
       "      <td>...</td>\n",
       "      <td>NaN</td>\n",
       "      <td>NaN</td>\n",
       "      <td>NaN</td>\n",
       "      <td>NaN</td>\n",
       "      <td>NaN</td>\n",
       "      <td>NaN</td>\n",
       "      <td>NaN</td>\n",
       "      <td>NaN</td>\n",
       "      <td>NaN</td>\n",
       "      <td>NaN</td>\n",
       "    </tr>\n",
       "    <tr>\n",
       "      <th>-0D44Oa5eolEFmaIM4MbWA</th>\n",
       "      <td>NaN</td>\n",
       "      <td>NaN</td>\n",
       "      <td>NaN</td>\n",
       "      <td>NaN</td>\n",
       "      <td>NaN</td>\n",
       "      <td>NaN</td>\n",
       "      <td>NaN</td>\n",
       "      <td>NaN</td>\n",
       "      <td>NaN</td>\n",
       "      <td>NaN</td>\n",
       "      <td>...</td>\n",
       "      <td>NaN</td>\n",
       "      <td>NaN</td>\n",
       "      <td>NaN</td>\n",
       "      <td>NaN</td>\n",
       "      <td>NaN</td>\n",
       "      <td>NaN</td>\n",
       "      <td>NaN</td>\n",
       "      <td>NaN</td>\n",
       "      <td>NaN</td>\n",
       "      <td>NaN</td>\n",
       "    </tr>\n",
       "  </tbody>\n",
       "</table>\n",
       "<p>5 rows × 28290 columns</p>\n",
       "</div>"
      ],
      "text/plain": [
       "business_id             --7zmmkVg-IMGaXbuVd0SQ  --9e1ONYQuAa-CB_Rrw7Tw  \\\n",
       "user_id                                                                  \n",
       "--CIuK7sUpaNzalLAlHJKA NaN                     NaN                       \n",
       "--ZNfWKj1VyVElRx6-g1fg NaN                     NaN                       \n",
       "--ty7Z9fEt08E3dS3_qoSA NaN                     NaN                       \n",
       "-0AyZxS5C--WySnbW_Q8yQ NaN                     NaN                       \n",
       "-0D44Oa5eolEFmaIM4MbWA NaN                     NaN                       \n",
       "\n",
       "business_id             --DaPTJW3-tB1vP-PfdTEg  --FBCX-N37CMYDfs790Bnw  \\\n",
       "user_id                                                                  \n",
       "--CIuK7sUpaNzalLAlHJKA NaN                     NaN                       \n",
       "--ZNfWKj1VyVElRx6-g1fg NaN                     NaN                       \n",
       "--ty7Z9fEt08E3dS3_qoSA NaN                     NaN                       \n",
       "-0AyZxS5C--WySnbW_Q8yQ NaN                     NaN                       \n",
       "-0D44Oa5eolEFmaIM4MbWA NaN                     NaN                       \n",
       "\n",
       "business_id             --I7YYLada0tSLkORTHb5Q  --SrzpvFLwP_YFwB_Cetow  \\\n",
       "user_id                                                                  \n",
       "--CIuK7sUpaNzalLAlHJKA NaN                     NaN                       \n",
       "--ZNfWKj1VyVElRx6-g1fg NaN                     NaN                       \n",
       "--ty7Z9fEt08E3dS3_qoSA NaN                     NaN                       \n",
       "-0AyZxS5C--WySnbW_Q8yQ NaN                     NaN                       \n",
       "-0D44Oa5eolEFmaIM4MbWA NaN                     NaN                       \n",
       "\n",
       "business_id             --cZ6Hhc9F7VkKXxHMVZSQ  --cjBEbXMI2obtaRHNSFrA  \\\n",
       "user_id                                                                  \n",
       "--CIuK7sUpaNzalLAlHJKA NaN                     NaN                       \n",
       "--ZNfWKj1VyVElRx6-g1fg NaN                     NaN                       \n",
       "--ty7Z9fEt08E3dS3_qoSA NaN                     NaN                       \n",
       "-0AyZxS5C--WySnbW_Q8yQ NaN                     NaN                       \n",
       "-0D44Oa5eolEFmaIM4MbWA NaN                     NaN                       \n",
       "\n",
       "business_id             --ujyvoQlwVoBgMYtADiLA  -01XupAWZEXbdNbxNg5mEg  \\\n",
       "user_id                                                                  \n",
       "--CIuK7sUpaNzalLAlHJKA NaN                     NaN                       \n",
       "--ZNfWKj1VyVElRx6-g1fg NaN                     NaN                       \n",
       "--ty7Z9fEt08E3dS3_qoSA NaN                     NaN                       \n",
       "-0AyZxS5C--WySnbW_Q8yQ NaN                     NaN                       \n",
       "-0D44Oa5eolEFmaIM4MbWA NaN                     NaN                       \n",
       "\n",
       "business_id                      ...            zyw5DjrRks7a8OhmBsgCQQ  \\\n",
       "user_id                          ...                                     \n",
       "--CIuK7sUpaNzalLAlHJKA           ...           NaN                       \n",
       "--ZNfWKj1VyVElRx6-g1fg           ...           NaN                       \n",
       "--ty7Z9fEt08E3dS3_qoSA           ...           NaN                       \n",
       "-0AyZxS5C--WySnbW_Q8yQ           ...           NaN                       \n",
       "-0D44Oa5eolEFmaIM4MbWA           ...           NaN                       \n",
       "\n",
       "business_id             zz3CqZhNx2rQ_Yp6zHze-A  zzSYBWuv_fXGtSgsO-6_1g  \\\n",
       "user_id                                                                  \n",
       "--CIuK7sUpaNzalLAlHJKA NaN                     NaN                       \n",
       "--ZNfWKj1VyVElRx6-g1fg NaN                     NaN                       \n",
       "--ty7Z9fEt08E3dS3_qoSA NaN                     NaN                       \n",
       "-0AyZxS5C--WySnbW_Q8yQ NaN                     NaN                       \n",
       "-0D44Oa5eolEFmaIM4MbWA NaN                     NaN                       \n",
       "\n",
       "business_id             zzUj3ej4vm_DtvRxNvWDEw  zzlZJVkEhOzR2tJOLHcF2A  \\\n",
       "user_id                                                                  \n",
       "--CIuK7sUpaNzalLAlHJKA NaN                     NaN                       \n",
       "--ZNfWKj1VyVElRx6-g1fg NaN                     NaN                       \n",
       "--ty7Z9fEt08E3dS3_qoSA NaN                     NaN                       \n",
       "-0AyZxS5C--WySnbW_Q8yQ NaN                     NaN                       \n",
       "-0D44Oa5eolEFmaIM4MbWA NaN                     NaN                       \n",
       "\n",
       "business_id             zzmIMvqiBJ_-wVKg_OnGpw  zzsOLFhgUw8gnjLTVVItFA  \\\n",
       "user_id                                                                  \n",
       "--CIuK7sUpaNzalLAlHJKA NaN                     NaN                       \n",
       "--ZNfWKj1VyVElRx6-g1fg NaN                     NaN                       \n",
       "--ty7Z9fEt08E3dS3_qoSA NaN                     NaN                       \n",
       "-0AyZxS5C--WySnbW_Q8yQ NaN                     NaN                       \n",
       "-0D44Oa5eolEFmaIM4MbWA NaN                     NaN                       \n",
       "\n",
       "business_id             zzwaS0xn1MVEPEf0hNLjew  zzwhN7x37nyjP0ZM8oiHmw  \\\n",
       "user_id                                                                  \n",
       "--CIuK7sUpaNzalLAlHJKA NaN                     NaN                       \n",
       "--ZNfWKj1VyVElRx6-g1fg NaN                     NaN                       \n",
       "--ty7Z9fEt08E3dS3_qoSA NaN                     NaN                       \n",
       "-0AyZxS5C--WySnbW_Q8yQ NaN                     NaN                       \n",
       "-0D44Oa5eolEFmaIM4MbWA NaN                     NaN                       \n",
       "\n",
       "business_id             zzwicjPC9g246MK2M1ZFBA  \n",
       "user_id                                         \n",
       "--CIuK7sUpaNzalLAlHJKA NaN                      \n",
       "--ZNfWKj1VyVElRx6-g1fg NaN                      \n",
       "--ty7Z9fEt08E3dS3_qoSA NaN                      \n",
       "-0AyZxS5C--WySnbW_Q8yQ NaN                      \n",
       "-0D44Oa5eolEFmaIM4MbWA NaN                      \n",
       "\n",
       "[5 rows x 28290 columns]"
      ]
     },
     "execution_count": 23,
     "metadata": {},
     "output_type": "execute_result"
    }
   ],
   "source": [
    "#Generating ratings matrix from explicit ratings table\n",
    "ratings_matrix = ratings_explicit.pivot(index='user_id', columns='business_id', values='stars')\n",
    "userID = ratings_matrix.index\n",
    "ISBN = ratings_matrix.columns\n",
    "print(ratings_matrix.shape)\n",
    "ratings_matrix.head()\n",
    "#Notice that most of the values are NaN (undefined) implying absence of ratings"
   ]
  },
  {
   "cell_type": "code",
   "execution_count": 36,
   "metadata": {},
   "outputs": [
    {
     "name": "stdout",
     "output_type": "stream",
     "text": [
      "15808 28419\n"
     ]
    }
   ],
   "source": [
    "n_users = ratings_matrix.shape[0] #considering only those users who gave explicit ratings\n",
    "n_books = ratings_matrix.shape[1]\n",
    "print (n_users, n_business)"
   ]
  },
  {
   "cell_type": "code",
   "execution_count": null,
   "metadata": {
    "collapsed": true
   },
   "outputs": [],
   "source": [
    "#since NaNs cannot be handled by training algorithms, replacing these by 0, which indicates absence of ratings\n",
    "#setting data type\n",
    "ratings_matrix.fillna(0, inplace = True)\n",
    "ratings_matrix = ratings_matrix.astype(np.int32)"
   ]
  },
  {
   "cell_type": "code",
   "execution_count": 239,
   "metadata": {},
   "outputs": [
    {
     "data": {
      "text/html": [
       "<div>\n",
       "<style>\n",
       "    .dataframe thead tr:only-child th {\n",
       "        text-align: right;\n",
       "    }\n",
       "\n",
       "    .dataframe thead th {\n",
       "        text-align: left;\n",
       "    }\n",
       "\n",
       "    .dataframe tbody tr th {\n",
       "        vertical-align: top;\n",
       "    }\n",
       "</style>\n",
       "<table border=\"1\" class=\"dataframe\">\n",
       "  <thead>\n",
       "    <tr style=\"text-align: right;\">\n",
       "      <th>ISBN</th>\n",
       "      <th>0000913154</th>\n",
       "      <th>0001046438</th>\n",
       "      <th>000104687X</th>\n",
       "      <th>0001047213</th>\n",
       "      <th>0001047973</th>\n",
       "      <th>000104799X</th>\n",
       "      <th>0001048082</th>\n",
       "      <th>0001053736</th>\n",
       "      <th>0001053744</th>\n",
       "      <th>0001055607</th>\n",
       "      <th>...</th>\n",
       "      <th>B000092Q0A</th>\n",
       "      <th>B00009EF82</th>\n",
       "      <th>B00009NDAN</th>\n",
       "      <th>B0000DYXID</th>\n",
       "      <th>B0000T6KHI</th>\n",
       "      <th>B0000VZEJQ</th>\n",
       "      <th>B0000X8HIE</th>\n",
       "      <th>B00013AX9E</th>\n",
       "      <th>B0001I1KOG</th>\n",
       "      <th>B000234N3A</th>\n",
       "    </tr>\n",
       "    <tr>\n",
       "      <th>userID</th>\n",
       "      <th></th>\n",
       "      <th></th>\n",
       "      <th></th>\n",
       "      <th></th>\n",
       "      <th></th>\n",
       "      <th></th>\n",
       "      <th></th>\n",
       "      <th></th>\n",
       "      <th></th>\n",
       "      <th></th>\n",
       "      <th></th>\n",
       "      <th></th>\n",
       "      <th></th>\n",
       "      <th></th>\n",
       "      <th></th>\n",
       "      <th></th>\n",
       "      <th></th>\n",
       "      <th></th>\n",
       "      <th></th>\n",
       "      <th></th>\n",
       "      <th></th>\n",
       "    </tr>\n",
       "  </thead>\n",
       "  <tbody>\n",
       "    <tr>\n",
       "      <th>2033</th>\n",
       "      <td>0</td>\n",
       "      <td>0</td>\n",
       "      <td>0</td>\n",
       "      <td>0</td>\n",
       "      <td>0</td>\n",
       "      <td>0</td>\n",
       "      <td>0</td>\n",
       "      <td>0</td>\n",
       "      <td>0</td>\n",
       "      <td>0</td>\n",
       "      <td>...</td>\n",
       "      <td>0</td>\n",
       "      <td>0</td>\n",
       "      <td>0</td>\n",
       "      <td>0</td>\n",
       "      <td>0</td>\n",
       "      <td>0</td>\n",
       "      <td>0</td>\n",
       "      <td>0</td>\n",
       "      <td>0</td>\n",
       "      <td>0</td>\n",
       "    </tr>\n",
       "    <tr>\n",
       "      <th>2110</th>\n",
       "      <td>0</td>\n",
       "      <td>0</td>\n",
       "      <td>0</td>\n",
       "      <td>0</td>\n",
       "      <td>0</td>\n",
       "      <td>0</td>\n",
       "      <td>0</td>\n",
       "      <td>0</td>\n",
       "      <td>0</td>\n",
       "      <td>0</td>\n",
       "      <td>...</td>\n",
       "      <td>0</td>\n",
       "      <td>0</td>\n",
       "      <td>0</td>\n",
       "      <td>0</td>\n",
       "      <td>0</td>\n",
       "      <td>0</td>\n",
       "      <td>0</td>\n",
       "      <td>0</td>\n",
       "      <td>0</td>\n",
       "      <td>0</td>\n",
       "    </tr>\n",
       "    <tr>\n",
       "      <th>2276</th>\n",
       "      <td>0</td>\n",
       "      <td>0</td>\n",
       "      <td>0</td>\n",
       "      <td>0</td>\n",
       "      <td>0</td>\n",
       "      <td>0</td>\n",
       "      <td>0</td>\n",
       "      <td>0</td>\n",
       "      <td>0</td>\n",
       "      <td>0</td>\n",
       "      <td>...</td>\n",
       "      <td>0</td>\n",
       "      <td>0</td>\n",
       "      <td>0</td>\n",
       "      <td>0</td>\n",
       "      <td>0</td>\n",
       "      <td>0</td>\n",
       "      <td>0</td>\n",
       "      <td>0</td>\n",
       "      <td>0</td>\n",
       "      <td>0</td>\n",
       "    </tr>\n",
       "    <tr>\n",
       "      <th>4017</th>\n",
       "      <td>0</td>\n",
       "      <td>0</td>\n",
       "      <td>0</td>\n",
       "      <td>0</td>\n",
       "      <td>0</td>\n",
       "      <td>0</td>\n",
       "      <td>0</td>\n",
       "      <td>0</td>\n",
       "      <td>0</td>\n",
       "      <td>0</td>\n",
       "      <td>...</td>\n",
       "      <td>0</td>\n",
       "      <td>0</td>\n",
       "      <td>0</td>\n",
       "      <td>0</td>\n",
       "      <td>0</td>\n",
       "      <td>0</td>\n",
       "      <td>0</td>\n",
       "      <td>0</td>\n",
       "      <td>0</td>\n",
       "      <td>0</td>\n",
       "    </tr>\n",
       "    <tr>\n",
       "      <th>4385</th>\n",
       "      <td>0</td>\n",
       "      <td>0</td>\n",
       "      <td>0</td>\n",
       "      <td>0</td>\n",
       "      <td>0</td>\n",
       "      <td>0</td>\n",
       "      <td>0</td>\n",
       "      <td>0</td>\n",
       "      <td>0</td>\n",
       "      <td>0</td>\n",
       "      <td>...</td>\n",
       "      <td>0</td>\n",
       "      <td>0</td>\n",
       "      <td>0</td>\n",
       "      <td>0</td>\n",
       "      <td>0</td>\n",
       "      <td>0</td>\n",
       "      <td>0</td>\n",
       "      <td>0</td>\n",
       "      <td>0</td>\n",
       "      <td>0</td>\n",
       "    </tr>\n",
       "  </tbody>\n",
       "</table>\n",
       "<p>5 rows × 66574 columns</p>\n",
       "</div>"
      ],
      "text/plain": [
       "ISBN    0000913154  0001046438  000104687X  0001047213  0001047973  \\\n",
       "userID                                                               \n",
       "2033    0           0           0           0           0            \n",
       "2110    0           0           0           0           0            \n",
       "2276    0           0           0           0           0            \n",
       "4017    0           0           0           0           0            \n",
       "4385    0           0           0           0           0            \n",
       "\n",
       "ISBN    000104799X  0001048082  0001053736  0001053744  0001055607  \\\n",
       "userID                                                               \n",
       "2033    0           0           0           0           0            \n",
       "2110    0           0           0           0           0            \n",
       "2276    0           0           0           0           0            \n",
       "4017    0           0           0           0           0            \n",
       "4385    0           0           0           0           0            \n",
       "\n",
       "ISBN       ...      B000092Q0A  B00009EF82  B00009NDAN  B0000DYXID  \\\n",
       "userID     ...                                                       \n",
       "2033       ...      0           0           0           0            \n",
       "2110       ...      0           0           0           0            \n",
       "2276       ...      0           0           0           0            \n",
       "4017       ...      0           0           0           0            \n",
       "4385       ...      0           0           0           0            \n",
       "\n",
       "ISBN    B0000T6KHI  B0000VZEJQ  B0000X8HIE  B00013AX9E  B0001I1KOG  B000234N3A  \n",
       "userID                                                                          \n",
       "2033    0           0           0           0           0           0           \n",
       "2110    0           0           0           0           0           0           \n",
       "2276    0           0           0           0           0           0           \n",
       "4017    0           0           0           0           0           0           \n",
       "4385    0           0           0           0           0           0           \n",
       "\n",
       "[5 rows x 66574 columns]"
      ]
     },
     "execution_count": 239,
     "metadata": {},
     "output_type": "execute_result"
    }
   ],
   "source": [
    "#checking first few rows\n",
    "ratings_matrix.head(5)"
   ]
  },
  {
   "cell_type": "code",
   "execution_count": 240,
   "metadata": {},
   "outputs": [
    {
     "name": "stdout",
     "output_type": "stream",
     "text": [
      "The sparsity level of Book Crossing dataset is 99.9977218411 %\n"
     ]
    }
   ],
   "source": [
    "#rechecking the sparsity\n",
    "sparsity=1.0-len(ratings_explicit)/float(users_exp_ratings.shape[0]*n_books)\n",
    "print 'The sparsity level of Book Crossing dataset is ' +  str(sparsity*100) + ' %'"
   ]
  },
  {
   "cell_type": "markdown",
   "metadata": {},
   "source": [
    "**Training our recommendation system**"
   ]
  },
  {
   "cell_type": "code",
   "execution_count": 241,
   "metadata": {
    "collapsed": true
   },
   "outputs": [],
   "source": [
    "#setting global variables\n",
    "global metric,k\n",
    "k=10\n",
    "metric='cosine'"
   ]
  },
  {
   "cell_type": "markdown",
   "metadata": {},
   "source": [
    "**User-based Recommendation System**"
   ]
  },
  {
   "cell_type": "code",
   "execution_count": 242,
   "metadata": {
    "collapsed": true
   },
   "outputs": [],
   "source": [
    "#This function finds k similar users given the user_id and ratings matrix \n",
    "#These similarities are same as obtained via using pairwise_distances\n",
    "def findksimilarusers(user_id, ratings_matrix, metric = metric, k=k):\n",
    "    similarities=[]\n",
    "    indices=[]\n",
    "    model_knn = NearestNeighbors(metric = metric, algorithm = 'brute') \n",
    "    model_knn.fit(ratings)\n",
    "    loc = ratings.index.get_loc(user_id)\n",
    "    distances, indices = model_knn.kneighbors(ratings.iloc[loc, :].values.reshape(1, -1), n_neighbors = k+1)\n",
    "    similarities = 1-distances.flatten()\n",
    "            \n",
    "    return similarities,indices"
   ]
  },
  {
   "cell_type": "code",
   "execution_count": 243,
   "metadata": {
    "collapsed": true
   },
   "outputs": [],
   "source": [
    "#This function predicts rating for specified user-item combination based on user-based approach\n",
    "def predict_userbased(user_id, item_id, ratings_matrix, metric = metric, k=k):\n",
    "    prediction=0\n",
    "    user_loc = ratings.index.get_loc(user_id)\n",
    "    item_loc = ratings.columns.get_loc(item_id)\n",
    "    similarities, indices=findksimilarusers(user_id, ratings_matrix,metric, k) #similar users based on cosine similarity\n",
    "    mean_rating = ratings.iloc[user_loc,:].mean() #to adjust for zero based indexing\n",
    "    sum_wt = np.sum(similarities)-1\n",
    "    product=1\n",
    "    wtd_sum = 0 \n",
    "    \n",
    "    for i in range(0, len(indices.flatten())):\n",
    "        if indices.flatten()[i] == user_loc:\n",
    "            continue;\n",
    "        else: \n",
    "            ratings_diff = ratings.iloc[indices.flatten()[i],item_loc]-np.mean(ratings.iloc[indices.flatten()[i],:])\n",
    "            product = ratings_diff * (similarities[i])\n",
    "            wtd_sum = wtd_sum + product\n",
    "    \n",
    "    #in case of very sparse datasets, using correlation metric for collaborative based approach may give negative ratings\n",
    "    #which are handled here as below\n",
    "    if prediction <= 0:\n",
    "        prediction = 1   \n",
    "    elif prediction >10:\n",
    "        prediction = 10\n",
    "    \n",
    "    prediction = int(round(mean_rating + (wtd_sum/sum_wt)))\n",
    "    print '\\nPredicted rating for user {0} -> item {1}: {2}'.format(user_id,item_id,prediction)\n",
    "\n",
    "    return prediction"
   ]
  },
  {
   "cell_type": "code",
   "execution_count": 244,
   "metadata": {},
   "outputs": [
    {
     "name": "stdout",
     "output_type": "stream",
     "text": [
      "\n",
      "Predicted rating for user 11676 -> item 0001056107: 2\n"
     ]
    }
   ],
   "source": [
    "predict_userbased(test_df,ratings_matrix);"
   ]
  },
  {
   "cell_type": "code",
   "execution_count": null,
   "metadata": {
    "collapsed": true
   },
   "outputs": [],
   "source": [
    "#This is final function to evaluate the performance of selected recommendation approach and the metric used here is RMSE\n",
    "#suppress_stdout function is used to suppress the print outputs of all the functions inside this function. It will only print \n",
    "#RMSE values\n",
    "def evaluateRS(ratings):\n",
    "    ids = ['User-based CF (cosine)','User-based CF (correlation)','Item-based CF (cosine)','Item-based CF (adjusted cosine)']\n",
    "    approach = widgets.Dropdown(options=ids, value=ids[0],description='Select Approach', width='500px')\n",
    "    n_users = ratings.shape[0]\n",
    "    n_items = ratings.shape[1]\n",
    "    prediction = np.zeros((n_users, n_items))\n",
    "    prediction= pd.DataFrame(prediction)\n",
    "    def on_change(change):\n",
    "        clear_output(wait=True)\n",
    "        with suppress_stdout():\n",
    "            if change['type'] == 'change' and change['name'] == 'value':            \n",
    "                if (approach.value == 'User-based CF (cosine)'):\n",
    "                    metric = 'cosine'\n",
    "                    for i in range(n_users):\n",
    "                        for j in range(n_items):\n",
    "                            prediction[i][j] = predict_userbased(i+1, j+1, ratings, metric)\n",
    "                elif (approach.value == 'User-based CF (correlation)')  :                       \n",
    "                    metric = 'correlation'               \n",
    "                    for i in range(n_users):\n",
    "                        for j in range(n_items):\n",
    "                            prediction[i][j] = predict_userbased(i+1, j+1, ratings, metric)\n",
    "                elif (approach.value == 'Item-based CF (cosine)'):\n",
    "                    for i in range(n_users):\n",
    "                        for j in range(n_items):\n",
    "                            prediction[i][j] = predict_userbased(i+1, j+1, ratings)\n",
    "                else:\n",
    "                    for i in range(n_users):\n",
    "                        for j in range(n_items):\n",
    "                            prediction[i][j] = predict_userbased(i+1, j+1, ratings)\n",
    "              \n",
    "        MSE = mean_squared_error(prediction, ratings)\n",
    "        RMSE = round(sqrt(MSE),3)\n",
    "        print \"RMSE using {0} approach is: {1}\".format(approach.value,RMSE)\n",
    "              \n",
    "    approach.observe(on_change)\n",
    "    display(approach)"
   ]
  },
  {
   "cell_type": "code",
   "execution_count": null,
   "metadata": {
    "collapsed": true
   },
   "outputs": [],
   "source": [
    "evaluateRS(M)"
   ]
  },
  {
   "cell_type": "markdown",
   "metadata": {},
   "source": [
    "**Thanks for reading this notebook**"
   ]
  }
 ],
 "metadata": {
  "kernelspec": {
   "display_name": "Python 3",
   "language": "python",
   "name": "python3"
  },
  "language_info": {
   "codemirror_mode": {
    "name": "ipython",
    "version": 3
   },
   "file_extension": ".py",
   "mimetype": "text/x-python",
   "name": "python",
   "nbconvert_exporter": "python",
   "pygments_lexer": "ipython3",
   "version": "3.6.2"
  }
 },
 "nbformat": 4,
 "nbformat_minor": 2
}
